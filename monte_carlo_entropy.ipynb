{
 "cells": [
  {
   "cell_type": "markdown",
   "id": "a80588ec",
   "metadata": {},
   "source": [
    "# Monte Carlo Entropy Calculation"
   ]
  },
  {
   "cell_type": "markdown",
   "id": "71bc3616",
   "metadata": {},
   "source": [
    "In this project we will numerically determine the entropy associated with different network topologies using Markov Chain Monte Carlo simulations. "
   ]
  },
  {
   "cell_type": "markdown",
   "id": "f66dbf5b",
   "metadata": {},
   "source": [
    "#### Import Libraries"
   ]
  },
  {
   "cell_type": "code",
   "execution_count": 7,
   "id": "e6f7e05f",
   "metadata": {},
   "outputs": [],
   "source": [
    "import numpy as np\n",
    "import random\n",
    "from collections import Counter"
   ]
  },
  {
   "cell_type": "markdown",
   "id": "b2681113",
   "metadata": {},
   "source": [
    "## Plain Network Entropy"
   ]
  },
  {
   "cell_type": "markdown",
   "id": "a56ecc51",
   "metadata": {},
   "source": [
    "In this section the entropy of a plain network will be determined. Here only the networks layouts are considered, weights and quantum states will be omitted."
   ]
  },
  {
   "cell_type": "markdown",
   "id": "dcbccd4c",
   "metadata": {},
   "source": [
    "### Define Random Walk Function"
   ]
  },
  {
   "cell_type": "code",
   "execution_count": 5,
   "id": "0c6de917",
   "metadata": {},
   "outputs": [
    {
     "name": "stdout",
     "output_type": "stream",
     "text": [
      "Sample network adjacency matrix:\n",
      "[[0 1 1 0 0 0 0]\n",
      " [0 0 0 1 1 0 0]\n",
      " [0 0 0 0 0 1 1]\n",
      " [0 0 0 0 0 0 0]\n",
      " [0 0 0 0 0 0 0]\n",
      " [0 0 0 0 0 0 0]\n",
      " [0 0 0 0 0 0 0]]\n",
      "\n",
      "Testing random walks:\n",
      "Walk 1: Ended at node 6\n",
      "Walk 2: Ended at node 4\n",
      "Walk 3: Ended at node 3\n",
      "Walk 4: Ended at node 5\n",
      "Walk 5: Ended at node 3\n"
     ]
    }
   ],
   "source": [
    "def random_walk(adjacency_matrix, num_steps=100):\n",
    "    \"\"\"\n",
    "    Simulates a random walk through a network using the adjacency matrix.\n",
    "    \n",
    "    Parameters:\n",
    "    -----------\n",
    "    adjacency_matrix : numpy.ndarray\n",
    "        Square adjacency matrix where adjacency_matrix[i][j] = 1 if there's an edge\n",
    "        from node i to node j, 0 otherwise.\n",
    "    num_steps : int, optional\n",
    "        Number of steps to take in the random walk. Default is 100.\n",
    "        \n",
    "    Returns:\n",
    "    --------\n",
    "    int\n",
    "        The final node where the random walk ended.\n",
    "        \n",
    "    Raises:\n",
    "    -------\n",
    "    ValueError\n",
    "        If the adjacency matrix is empty or if a node has no neighbors.\n",
    "    \"\"\"\n",
    "    # Convert to numpy array if not already\n",
    "    adj_matrix = np.array(adjacency_matrix)\n",
    "    \n",
    "    # Validate input\n",
    "    if adj_matrix.size == 0:\n",
    "        raise ValueError(\"Adjacency matrix cannot be empty\")\n",
    "    \n",
    "    if adj_matrix.shape[0] != adj_matrix.shape[1]:\n",
    "        raise ValueError(\"Adjacency matrix must be square\")\n",
    "        \n",
    "    current_node=0 # Always start from node 0 for simplicity\n",
    "    \n",
    "    # Perform random walk\n",
    "    for step in range(num_steps):\n",
    "        # Get neighbors of current node\n",
    "        neighbors = np.where(adj_matrix[current_node] > 0)[0]\n",
    "        \n",
    "        # If no neighbors, stay at current node (or could raise an error)\n",
    "        if len(neighbors) == 0:\n",
    "            break\n",
    "        \n",
    "        # Choose random neighbor\n",
    "        current_node = random.choice(neighbors)\n",
    "    \n",
    "    return current_node\n",
    "\n",
    "# Example usage and testing function\n",
    "def create_sample_network():\n",
    "    \"\"\"\n",
    "    Creates a sample adjacency matrix for testing.\n",
    "    This creates a simple 7-node network with some connections.\n",
    "    \"\"\"\n",
    "    # Create a 7x7 adjacency matrix\n",
    "    adj_matrix = np.array([\n",
    "        [0, 1, 1, 0, 0,0,0],  # Node 0 connects to nodes 1, 2\n",
    "        [0, 0, 0, 1, 1,0,0],  # Node 1 connects to nodes 3, 4\n",
    "        [0, 0, 0, 0, 0,1,1],  # Node 2 connects to nodes 5, 6\n",
    "        [0, 0, 0, 0, 0,0,0],  # Node 3 connects to noone\n",
    "        [0, 0, 0, 0, 0,0,0],   # Node 4 connects to noone\n",
    "        [0, 0, 0, 0, 0,0,0],    # Node 5 connects to no one\n",
    "        [0, 0, 0, 0, 0,0,0]     # Node 6 connects to no one\n",
    "    ])\n",
    "    return adj_matrix\n"
   ]
  },
  {
   "cell_type": "markdown",
   "id": "0f9b1934",
   "metadata": {},
   "source": [
    "### Simulate Random Walk"
   ]
  },
  {
   "cell_type": "code",
   "execution_count": 9,
   "id": "1e42c7a0",
   "metadata": {},
   "outputs": [
    {
     "name": "stdout",
     "output_type": "stream",
     "text": [
      "Testing the simulation function:\n",
      "\n",
      "Results from 1000 random walk simulations:\n",
      "End node counts:\n",
      "Node 3: 250149 times (25.0%)\n",
      "Node 4: 250454 times (25.0%)\n",
      "Node 5: 250258 times (25.0%)\n",
      "Node 6: 249139 times (24.9%)\n",
      "\n",
      "Total simulations: 1000000\n",
      "Unique end nodes: 4\n",
      "\n",
      "Results from 1000 random walk simulations:\n",
      "End node counts:\n",
      "Node 3: 250149 times (25.0%)\n",
      "Node 4: 250454 times (25.0%)\n",
      "Node 5: 250258 times (25.0%)\n",
      "Node 6: 249139 times (24.9%)\n",
      "\n",
      "Total simulations: 1000000\n",
      "Unique end nodes: 4\n"
     ]
    }
   ],
   "source": [
    "def simulate_multiple_random_walks(adjacency_matrix, num_simulations, num_steps=100):\n",
    "    \"\"\"\n",
    "    Simulates multiple random walks through a network and returns the count of end locations.\n",
    "    \n",
    "    Parameters:\n",
    "    -----------\n",
    "    adjacency_matrix : numpy.ndarray\n",
    "        Square adjacency matrix where adjacency_matrix[i][j] = 1 if there's an edge\n",
    "        from node i to node j, 0 otherwise.\n",
    "    num_simulations : int\n",
    "        Number of random walk simulations to perform.\n",
    "    num_steps : int, optional\n",
    "        Number of steps to take in each random walk. Default is 100.\n",
    "        \n",
    "    Returns:\n",
    "    --------\n",
    "    dict\n",
    "        Dictionary with node indices as keys and their occurrence counts as values.\n",
    "        \n",
    "    Example:\n",
    "    --------\n",
    "    >>> network = create_sample_network()\n",
    "    >>> counts = simulate_multiple_random_walks(network, 1000, num_steps=10)\n",
    "    >>> print(counts)\n",
    "    {3: 500, 4: 250, 5: 125, 6: 125}\n",
    "    \"\"\"\n",
    "    end_nodes = []\n",
    "    \n",
    "    # Run the specified number of simulations\n",
    "    for i in range(num_simulations):\n",
    "        end_node = random_walk(adjacency_matrix, num_steps)\n",
    "        end_nodes.append(end_node)\n",
    "    \n",
    "    # Count occurrences of each end node\n",
    "    end_node_counts = Counter(end_nodes)\n",
    "    \n",
    "    # Convert Counter to regular dictionary for easier handling\n",
    "    return dict(end_node_counts)\n"
   ]
  },
  {
   "cell_type": "markdown",
   "id": "6ad6c9c2",
   "metadata": {},
   "source": [
    "### Determine Entropy of previously established networks"
   ]
  },
  {
   "cell_type": "code",
   "execution_count": 10,
   "id": "2da913c3",
   "metadata": {},
   "outputs": [],
   "source": [
    "N1=np.array([\n",
    "    [0,1,1,0,0,0],\n",
    "    [0,0,0,1,1,0],\n",
    "    [0,0,0,0,0,1],\n",
    "    [0,0,0,0,0,0],\n",
    "    [0,0,0,0,0,0],\n",
    "    [0,0,0,0,0,0]\n",
    "])\n",
    "\n",
    "N2=np.array([\n",
    "    [0,1,1,1,0,0,0],\n",
    "    [0,0,0,0,1,0,0],\n",
    "    [0,0,0,0,0,1,0],\n",
    "    [0,0,0,0,0,0,1],\n",
    "    [0,0,0,0,0,0,0],\n",
    "    [0,0,0,0,0,0,0],\n",
    "    [0,0,0,0,0,0,0]\n",
    "])\n",
    "\n",
    "N3=np.array([\n",
    "    [0,1,0,0,0],\n",
    "    [0,0,1,1,1],\n",
    "    [0,0,0,0,0],\n",
    "    [0,0,0,0,0],\n",
    "    [0,0,0,0,0]\n",
    "])"
   ]
  },
  {
   "cell_type": "code",
   "execution_count": 13,
   "id": "28124719",
   "metadata": {},
   "outputs": [
    {
     "name": "stdout",
     "output_type": "stream",
     "text": [
      "N1 Entropy: 1.4994\n",
      "N2 Entropy: 1.5850\n",
      "N3 Entropy: 1.5850\n"
     ]
    }
   ],
   "source": [
    "n1_results = simulate_multiple_random_walks(N1, 100000, num_steps=10)\n",
    "n2_results = simulate_multiple_random_walks(N2, 100000, num_steps=10)\n",
    "n3_results = simulate_multiple_random_walks(N3, 100000, num_steps=10)\n",
    "\n",
    "n1_entropy= sum(-count / 100000 * np.log2(count / 100000) for count in n1_results.values())\n",
    "n2_entropy= sum(-count / 100000 * np.log2(count / 100000) for count in n2_results.values())\n",
    "n3_entropy= sum(-count / 100000 * np.log2(count / 100000) for count in n3_results.values()) \n",
    "\n",
    "print(f\"N1 Entropy: {n1_entropy:.4f}\")\n",
    "print(f\"N2 Entropy: {n2_entropy:.4f}\")\n",
    "print(f\"N3 Entropy: {n3_entropy:.4f}\")"
   ]
  },
  {
   "cell_type": "code",
   "execution_count": null,
   "id": "23ad707b",
   "metadata": {},
   "outputs": [],
   "source": []
  },
  {
   "cell_type": "markdown",
   "id": "bdad8170",
   "metadata": {},
   "source": [
    "### Different Types of Network Entropy\n",
    "\n",
    "There are several ways to calculate the entropy of a network itself, each capturing different aspects:\n",
    "\n",
    "**1. Degree Distribution Entropy**: Measures uncertainty in how many connections each node has\n",
    "- Higher when nodes have diverse connectivity levels\n",
    "- Lower when all nodes have similar degrees\n",
    "\n",
    "**2. Structural Entropy**: Average uncertainty in where each node connects\n",
    "- Considers the actual connection patterns\n",
    "- Higher for more complex branching structures\n",
    "\n",
    "**3. Von Neumann Entropy**: Quantum mechanical entropy of the network\n",
    "- Treats the adjacency matrix as a quantum density matrix\n",
    "- Important for quantum network applications\n",
    "- Based on eigenvalues of the normalized adjacency matrix\n",
    "\n",
    "**4. Network Complexity Entropy**: Based on structural diversity\n",
    "- Counts unique node connection patterns\n",
    "- Higher when nodes have more diverse roles\n",
    "\n",
    "**5. Random Walk End-State Entropy**: Your original calculation\n",
    "- Measures uncertainty in final destinations of random processes\n",
    "- Important for understanding information flow and absorption\n",
    "\n",
    "**Which entropy to use depends on your research focus:**\n",
    "- **Topology analysis**: Degree distribution or structural entropy\n",
    "- **Quantum networks**: Von Neumann entropy  \n",
    "- **Information flow**: Random walk entropy\n",
    "- **Network comparison**: Multiple measures for comprehensive analysis"
   ]
  }
 ],
 "metadata": {
  "kernelspec": {
   "display_name": "Python 3",
   "language": "python",
   "name": "python3"
  },
  "language_info": {
   "codemirror_mode": {
    "name": "ipython",
    "version": 3
   },
   "file_extension": ".py",
   "mimetype": "text/x-python",
   "name": "python",
   "nbconvert_exporter": "python",
   "pygments_lexer": "ipython3",
   "version": "3.9.6"
  }
 },
 "nbformat": 4,
 "nbformat_minor": 5
}
